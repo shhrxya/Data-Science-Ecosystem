{
  "metadata": {
    "language_info": {
      "codemirror_mode": {
        "name": "python",
        "version": 3
      },
      "file_extension": ".py",
      "mimetype": "text/x-python",
      "name": "python",
      "nbconvert_exporter": "python",
      "pygments_lexer": "ipython3",
      "version": "3.8"
    },
    "kernelspec": {
      "name": "python",
      "display_name": "Python (Pyodide)",
      "language": "python"
    }
  },
  "nbformat_minor": 4,
  "nbformat": 4,
  "cells": [
    {
      "cell_type": "markdown",
      "source": "# Data Science Tools and EcosystemData Science Tools and Ecosystem",
      "metadata": {
        "tags": []
      }
    },
    {
      "cell_type": "markdown",
      "source": "In this notebook, Data Science Tools and Ecosystem are summarized.",
      "metadata": {}
    },
    {
      "cell_type": "markdown",
      "source": "Some of the popular languages that Data Scientists use are:\n1. Python\n2. R\n3. SQL\n4. Julia\n5. Scala",
      "metadata": {}
    },
    {
      "cell_type": "markdown",
      "source": "Some of the commonly used libraries used by Data Scientists include:\n1. TensorFlow\n2. NumPy\n3. SciPy\n4. Pandas\n5. PyTorch",
      "metadata": {}
    },
    {
      "cell_type": "markdown",
      "source": "#Table\n|Data Science Tools|\n|----- |\n|TensorFlow|\n|Apache Spark | \n| RStudio | ",
      "metadata": {}
    },
    {
      "cell_type": "markdown",
      "source": "### Below are a few examples of evaluating arithmetic expressions in Python",
      "metadata": {}
    },
    {
      "cell_type": "code",
      "source": "#This a simple arithmetic expression to mutiply then add integers.\n(3*4)+5",
      "metadata": {
        "trusted": true
      },
      "execution_count": 1,
      "outputs": [
        {
          "execution_count": 1,
          "output_type": "execute_result",
          "data": {
            "text/plain": "17"
          },
          "metadata": {}
        }
      ]
    },
    {
      "cell_type": "code",
      "source": "#This will convert 200 minutes to hours by diving by 60\nhours= 200/60\nprint(hours)",
      "metadata": {
        "trusted": true
      },
      "execution_count": 2,
      "outputs": [
        {
          "name": "stdout",
          "text": "3.3333333333333335\n",
          "output_type": "stream"
        }
      ]
    },
    {
      "cell_type": "markdown",
      "source": "**Objectives:**\n- Listing Popular Languages for Data Science;\n- Listing Popular Libraries for Data Science.\n- Creating Table for Data Science Tools.\n- Creating code to convert minutes into hours.\n- Creating code for simple arithimetic expression.",
      "metadata": {}
    },
    {
      "cell_type": "markdown",
      "source": "## Author\nShreya Arora",
      "metadata": {}
    },
    {
      "cell_type": "code",
      "source": "",
      "metadata": {},
      "execution_count": null,
      "outputs": []
    }
  ]
}